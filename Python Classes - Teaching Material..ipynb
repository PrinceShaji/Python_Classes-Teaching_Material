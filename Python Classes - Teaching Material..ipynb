{
 "cells": [
  {
   "cell_type": "markdown",
   "metadata": {},
   "source": [
    "# Python Classes"
   ]
  },
  {
   "cell_type": "markdown",
   "metadata": {},
   "source": [
    "## What are Classes?\n",
    "\n",
    "- Classes are found in most modern programming languages.\n",
    "- They allow us to logically group our functions and data.\n",
    "- They are extremely easy to reuse and build upon (modifying the code)."
   ]
  },
  {
   "cell_type": "markdown",
   "metadata": {},
   "source": [
    "___"
   ]
  },
  {
   "cell_type": "code",
   "execution_count": null,
   "metadata": {},
   "outputs": [],
   "source": [
    "class Dog:\n",
    "    \"\"\" Empty Class \"\"\"\n",
    "    pass\n",
    "\n",
    "a = Dog()\n",
    "b = Dog()\n",
    "\n",
    "print(a)\n",
    "print(b, '\\n'*2)\n",
    "\n",
    "a.name = 'Buddy'\n",
    "a.age = 10\n",
    "\n",
    "b.name = 'Axl'\n",
    "b.age = 7\n",
    "\n",
    "print(a.name)\n",
    "print(a.age, \"\\n\")\n",
    "print(b.name)\n",
    "print(b.age)"
   ]
  },
  {
   "cell_type": "markdown",
   "metadata": {},
   "source": [
    "<img src=\"images/empty_class_01.png\">"
   ]
  },
  {
   "cell_type": "markdown",
   "metadata": {},
   "source": [
    "## Class and Instance\n",
    "\n",
    "### Class\n",
    "- Class is a blueprint to create Instances/Objects.\n",
    "- In the example above, \"Dog\" is the class.\n",
    "\n",
    "### Instance\n",
    "- Objects created by a Class is called an Instance.\n",
    "- In the example above, \"a\" and \"b\" are the instances of the class \"Dog\".\n",
    "\n",
    "#### Objects are created using classes by **Instantiation**.\n",
    "- We instantiated two instances \"a\" and \"b\" using the commands ``` a = Dog() ``` and ``` b = Dog() ```."
   ]
  },
  {
   "cell_type": "markdown",
   "metadata": {},
   "source": [
    "### Explanation\n",
    "- Here, an empty class is created and using that empty class, an empty instance is instantiated. Then the instance variables are added manually using the commands \n",
    "``` b.name = 'Axl' ``` and ``` b.age = 7 ```\n",
    "    \n",
    "    Those instances variables are accessed using the instance name and variable name.\n",
    "    ie to access the instance variable 'name' of instance \"a\", ``` a.name ``` is used\n"
   ]
  },
  {
   "cell_type": "markdown",
   "metadata": {},
   "source": [
    "___\n",
    "\n",
    "### Instance Variables or Attributes"
   ]
  },
  {
   "cell_type": "code",
   "execution_count": null,
   "metadata": {},
   "outputs": [],
   "source": [
    "class Dog:\n",
    "    \"\"\" Docstring. \"\"\"\n",
    "    def __init__(self, name, owner_name, age, breed):\n",
    "        self.name = name\n",
    "        self.owner = owner_name\n",
    "        self.age = age\n",
    "        self.breed = breed\n",
    "\n",
    "\n",
    "a = Dog(\"Buddy\", \"Byte\", 10, \"Boxer\")\n",
    "b = Dog(\"Axl\", \"Byte\", 7, \"German Shepherd\")\n",
    "\n",
    "\n",
    "print(a.name)\n",
    "print(a.age)\n",
    "\n",
    "print(\"\\n\")\n",
    "\n",
    "print(b.name)\n",
    "print(b.age)"
   ]
  },
  {
   "cell_type": "markdown",
   "metadata": {},
   "source": [
    "<img src=\"images/instance_variable_01.png\">"
   ]
  },
  {
   "cell_type": "markdown",
   "metadata": {},
   "source": [
    "### Explanation\n",
    "- The ``` def __init__(self): ``` method is called a constructor. It is executed every time an instance is instantiated.\n",
    "\n",
    "    Instead of manually adding instance variables to every instances, those values can be directly passed in while instantiating the instance as seen in the example above.\n",
    "    \n",
    "    This is why classes are referred as blueprints to create an object (instance).\n",
    "    \n",
    "- Instance variables are unique for all instances.\n",
    "    eg: attribute 'name' of instance \"a\" is \"Buddy\" whereas it is \"Axl\" for instance \"b\".\n",
    "   "
   ]
  },
  {
   "cell_type": "markdown",
   "metadata": {},
   "source": [
    "### Instance Methods."
   ]
  },
  {
   "cell_type": "code",
   "execution_count": null,
   "metadata": {},
   "outputs": [],
   "source": [
    "\n",
    "class Dog:                                              # Class name.\n",
    "    \"\"\" Docstring. \"\"\"                                  # Describing the class.    \n",
    "    def __init__(self, name, owner_name, age, breed):   # Class constructor.\n",
    "        self.name = name                                # Instance variable.\n",
    "        self.owner = owner_name\n",
    "        self.age = age\n",
    "        self.breed = breed\n",
    "\n",
    "    def dog_age(self):                                   # Instance Method.\n",
    "        \n",
    "        print(f' Dog : {self.name} \\n Age :{self.age}')\n",
    "\n",
    "if __name__ == \"__main__\":\n",
    "    \n",
    "    a = Dog(\"Axl\", \"Byte\", 7, \"German Shepherd\")\n",
    "    \n",
    "    print('Object:', a, '\\n')\n",
    "    a.dog_age()"
   ]
  },
  {
   "cell_type": "markdown",
   "metadata": {},
   "source": [
    "<img src=\"images/instance_method_01.png\">"
   ]
  },
  {
   "cell_type": "markdown",
   "metadata": {},
   "source": [
    "### Explanation\n",
    "- A function inside an instance is called an instance method. \n",
    "    In the example above, ``` dog_age() ``` is an instance method that prints out the name of the dog and it's age.\n",
    "    \n",
    "    Instance methods are accessed using **instance_name.method_name()** and in this case, it is ``` a.dog_age() ``` , since \"a\" is the instance name and \"dog_name\" is the method.\n",
    "\n",
    "    Using **instance_name.instance_method** without the parenthesis will print the memory location of that method.\n",
    "___"
   ]
  },
  {
   "cell_type": "markdown",
   "metadata": {},
   "source": [
    "### Class Variables\n",
    "\n",
    "- Unlike instance variables, class variables are the same for every instances created using that class.\n",
    "- It can be accesses using both the instance name and class name as shown in the example below."
   ]
  },
  {
   "cell_type": "code",
   "execution_count": null,
   "metadata": {},
   "outputs": [],
   "source": [
    "class Dog:\n",
    "    \"\"\" Docstring. \"\"\"\n",
    "    \n",
    "    kind = 'canine'         # class variable shared by all instances\n",
    "    \n",
    "    def __init__(self, name, owner_name, age, breed):\n",
    "        self.name = name\n",
    "        self.owner = owner_name\n",
    "        self.age = age\n",
    "        self.breed = breed\n",
    "\n",
    "if __name__ == \"__main__\":\n",
    "    \n",
    "    a = Dog(\"Axl\", \"Byte\", 7, \"German Shepherd\")\n",
    "    \n",
    "    print('Accessing attribute through instance :', a.kind)\n",
    "    print('Accessing attribute through class:', Dog.kind)"
   ]
  },
  {
   "cell_type": "markdown",
   "metadata": {},
   "source": [
    "<img src=\"images/class_variable_01.png\">"
   ]
  },
  {
   "cell_type": "markdown",
   "metadata": {},
   "source": [
    "<br>\n",
    "- If we look at the namespace of the instance a using ``` print(a.__dict__) ```, it is clear that the instance does not contain an attribute \"kind\".\n",
    "\n",
    "- But when printing out the namespace of the class using ``` print(Dog.__dict__) ```, the attribute \"kind\" can be seen.\n",
    "<br>"
   ]
  },
  {
   "cell_type": "markdown",
   "metadata": {},
   "source": [
    "<img src=\"images/class_variable_02.png\">"
   ]
  },
  {
   "cell_type": "markdown",
   "metadata": {},
   "source": [
    "#### Explanation\n",
    "- When accessing attributes, python looks for that attribute in the namespace of the instance. \n",
    "- If the attribute is not found in the instance namespace, then and then only python looks for it in the namespace of the class"
   ]
  },
  {
   "cell_type": "markdown",
   "metadata": {},
   "source": [
    "### Changing class variables\n",
    "\n",
    "Class variables can be changed by **class_name.attribute_name = \"new value\"** .\n",
    "\n",
    "In the example below, attribute \"kind\" of class is changed from \"canine\" to \"feline\"."
   ]
  },
  {
   "cell_type": "code",
   "execution_count": null,
   "metadata": {},
   "outputs": [],
   "source": [
    "class Dog:\n",
    "    \"\"\" Docstring. \"\"\"\n",
    "    \n",
    "    kind = 'canine'                                          # class variable shared by all instances\n",
    "    \n",
    "    def __init__(self, name, owner_name, age, breed):\n",
    "        self.name = name\n",
    "        self.owner = owner_name\n",
    "        self.age = age\n",
    "        self.breed = breed\n",
    "\n",
    "if __name__ == \"__main__\":\n",
    "    \n",
    "    dog_1 = Dog(\"Axl\", \"Byte\", 7, \"German Shepherd\")\n",
    "    \n",
    "    print('Attribute \"kind\" of class \"Dog\":', Dog.kind)\n",
    "    print('Attribute \"kind\" of instance dog_1:', dog_1.kind)\n",
    "    \n",
    "    Dog.kind = 'feline'  # Changing the value of class variable \"kind\"\n",
    "    \n",
    "    print('Attribute \"kind\" of class \"Dog\":', Dog.kind)\n",
    "    print('Attribute \"kind\" of instance dog_1:', dog_1.kind)\n",
    "     \n",
    "    print('Namespace of class \"Dog\":', Dog.__dict__)\n",
    "    print('Namespace of instance \"dog_1\":', dog_1.__dict__)   # Printing the namespace."
   ]
  },
  {
   "cell_type": "markdown",
   "metadata": {},
   "source": [
    "<img src=\"images/class_variable_03.png\">"
   ]
  },
  {
   "cell_type": "markdown",
   "metadata": {},
   "source": [
    "#### Explanation\n",
    "- At first, the value of class attribute \"kind\" was \"canine\". It was changed using ``` Dog.type = \"feline\" ```\n",
    "    \n",
    "    Since the namespace of class Dog was changed (changes highlighted), the new value of \"kind\" is \"feline\" for both the class and instance."
   ]
  },
  {
   "cell_type": "markdown",
   "metadata": {},
   "source": [
    "### Changing class variable of a single instance instance.\n",
    "\n",
    "Let's create two instances 'dog_1' and 'dog_2\". Both of them has the class variable kind and it's value is 'canine'. Then the class variable of dog_2 is changed to 'feline'. After that, the attribute is accessed using class name and instance name, and the namespace of both the class and instances are printed."
   ]
  },
  {
   "cell_type": "code",
   "execution_count": null,
   "metadata": {},
   "outputs": [],
   "source": [
    "class Dog:\n",
    "    \"\"\" Docstring. \"\"\"\n",
    "    \n",
    "    kind = 'canine'         # class variable shared by all instances\n",
    "    \n",
    "    def __init__(self, name, owner_name, age, breed):\n",
    "        self.name = name\n",
    "        self.owner = owner_name\n",
    "        self.age = age\n",
    "        self.breed = breed\n",
    "\n",
    "if __name__ == \"__main__\":\n",
    "    \n",
    "    dog_1 = Dog(\"Axl\", \"Byte\", 7, \"German Shepherd\")\n",
    "    dog_2 = Dog(\"Buddy\", \"Byte\", 9, \"Boxer\")\n",
    "    \n",
    "    dog_2.kind = 'feline'  # Changing the attribute 'kind'.\n",
    "        \n",
    "    print('Attribute \"kind\" of class Dog:', Dog.kind)\n",
    "    print('Attribute \"kind\" of instance \"dog_1\":', dog_1.kind)      # Accessing the attributes.\n",
    "    print('Attribute \"kind\" of instance \"dog_1\":', dog_2.kind)\n",
    "    \n",
    "    print('Namespace of class \"Dog\":', Dog.__dict__)\n",
    "    print('Namespace of instance \"dog_1\":', dog_1.__dict__)  # Printing the namespace.\n",
    "    print('Namespace of instance \"dog_2\":',dog_2.__dict__)"
   ]
  },
  {
   "cell_type": "markdown",
   "metadata": {},
   "source": [
    "<img src=\"images/class_variable_04.png\">"
   ]
  },
  {
   "cell_type": "markdown",
   "metadata": {},
   "source": [
    "#### Explanation\n",
    "- Here, the attribute for \"dog_2\" is changed from \"canine\" to \"feline\".\n",
    "- The attribute for both the class \"Dog\" and instance \"dog_1\" is still \"canine\"\n",
    "\n",
    "##### Why is that?\n",
    "- The answer is in the nameapace. The namespace of \"dog_1\" does not have an attribute \"kind\". So python searches the class for that attribute and prints out \"canine\"\n",
    "    But in the case of the instance \"dog_2\", it's namespace contains an attribute named \"kind\". So python prints out the value of that attribute. **This is really important cuse depending on how you call the attribute, ie using class name or instance name, it returns different value for thee same attribute name.**\n",
    "    \n",
    "    ___"
   ]
  },
  {
   "cell_type": "markdown",
   "metadata": {},
   "source": [
    "### An example of mistaken use of class variable\n",
    "\n",
    "    The following is an example of how not to use a class variable. Here, using an instance variable is the best approach.\n",
    "\n",
    "**Let's look at the wrong approach first.**"
   ]
  },
  {
   "cell_type": "code",
   "execution_count": null,
   "metadata": {},
   "outputs": [],
   "source": [
    "class Dog:\n",
    "\n",
    "    tricks = []             # mistaken use of a class variable\n",
    "\n",
    "    def __init__(self, name):\n",
    "        self.name = name\n",
    "\n",
    "    def add_trick(self, trick):\n",
    "        self.tricks.append(trick)\n",
    "\n",
    "        \n",
    "if __name__ == \"__main__\":\n",
    "    \n",
    "    dog_1 = Dog('Axl')\n",
    "    dog_2 = Dog('Buddy')\n",
    "    \n",
    "    dog_1.add_trick('roll over')\n",
    "    dog_2.add_trick('play dead')\n",
    "    \n",
    "    print('Attribute \"tricks\" of class:', Dog.tricks)\n",
    "    print('Attribute \"tricks\" of instance \"dog_1\":', dog_1.tricks)\n",
    "    print('Attribute \"tricks\" of instance \"dog_2\":', dog_2.tricks)\n"
   ]
  },
  {
   "cell_type": "markdown",
   "metadata": {},
   "source": [
    "<img src=\"images/class_variable_05.png\">"
   ]
  },
  {
   "cell_type": "markdown",
   "metadata": {},
   "source": [
    "#### Explanation\n",
    "- Here, 'roll over' is the skill of dog_1 and 'play dead' is the skill of dog_2. But since the attribute 'tricks' is a class attribute, it is shared among both dogs. The first line shows the contents of that class variable.\n",
    "\n",
    "    So it is hard to figure out what the skills of each dogs are. In a situation like this, making the atribute 'tricks' as an instance variable is the correct way to do it as you'll see in the ext example."
   ]
  },
  {
   "cell_type": "markdown",
   "metadata": {},
   "source": [
    "**The correct approach.**\n",
    "\n",
    "- In the example below, attribute \"tricks\" is an instance variable. So the changes made will only affect that instance instead of all instances."
   ]
  },
  {
   "cell_type": "code",
   "execution_count": null,
   "metadata": {},
   "outputs": [],
   "source": [
    "class Dog:\n",
    "\n",
    "    def __init__(self, name):\n",
    "        self.name = name\n",
    "        self.tricks = []          # The list is now an instance variable.\n",
    "\n",
    "    def add_trick(self, trick):\n",
    "        self.tricks.append(trick)\n",
    "\n",
    "        \n",
    "if __name__ == \"__main__\":\n",
    "    \n",
    "    dog_1 = Dog('Axl')\n",
    "    dog_2 = Dog('Buddy')\n",
    "    \n",
    "    dog_1.add_trick('roll over')\n",
    "    dog_2.add_trick('play dead')\n",
    "    \n",
    "    print('Attribute \"tricks\" of instance \"dog_1\":', dog_1.tricks)\n",
    "    print('Attribute \"tricks\" of instance \"dog_2\":', dog_2.tricks)\n"
   ]
  },
  {
   "cell_type": "markdown",
   "metadata": {},
   "source": [
    "<img src=\"images/class_variable_06.png\">"
   ]
  },
  {
   "cell_type": "markdown",
   "metadata": {},
   "source": [
    "#### Explanation\n",
    "- Here, there is no class attribute called \"tricks\". Instead, it is an instance attribute and because of that, it is unique to each instance.\n",
    "    So when the attribute \"tricks\" is printed for both of the instances, it is unique.\n",
    "    \n",
    "\n",
    "**It is not to say that class variables should not change at all. There are certain cases where the above mentioned 'wrong approach' makes sense. It all depends on the problem.**\n",
    "\n",
    "\n",
    "**Let's look at one of those cases.**"
   ]
  },
  {
   "cell_type": "code",
   "execution_count": null,
   "metadata": {},
   "outputs": [],
   "source": [
    "class Dog:\n",
    "    \n",
    "    number_of_dogs = 0\n",
    "\n",
    "    def __init__(self, name):\n",
    "        self.name = name\n",
    "        self.tricks = []\n",
    "        Dog.number_of_dogs += 1        # The attribute is called using the class name.\n",
    "\n",
    "    def add_trick(self, trick):\n",
    "        self.tricks.append(trick)\n",
    "\n",
    "        \n",
    "if __name__ == \"__main__\":\n",
    "    \n",
    "    dog_1 = Dog('Axl')\n",
    "    dog_2 = Dog('Buddy')\n",
    "    \n",
    "    dog_1.add_trick('roll over')\n",
    "    dog_2.add_trick('play dead')\n",
    "    \n",
    "    print('Attribute \"number_of_dogs\" of class \"Dog\":', Dog.number_of_dogs)\n",
    "    print('Attribute \"number_of_dogs\" of instance \"dog_1\":', dog_1.number_of_dogs)\n",
    "    print('Attribute \"number_of_dogs\" of instance \"dog_2\":', dog_2.number_of_dogs)\n"
   ]
  },
  {
   "cell_type": "markdown",
   "metadata": {},
   "source": [
    "<img src=\"images/class_variable_07.png\">"
   ]
  },
  {
   "cell_type": "markdown",
   "metadata": {},
   "source": [
    "#### Explanation\n",
    "- Here, the class variable \"number_of_dogs\" is incremented every time an instance is created. **This only worked because the attributed is called using the class name ``` Dog.number_of_dogs ```. If it was called using class name ```self.number_of_dogs ```, it will become an instance variable and the class variable will not get incremented as shown in the example below.**"
   ]
  },
  {
   "cell_type": "code",
   "execution_count": null,
   "metadata": {},
   "outputs": [],
   "source": [
    "class Dog:\n",
    "    \n",
    "    number_of_dogs = 0\n",
    "\n",
    "    def __init__(self, name):\n",
    "        self.name = name\n",
    "        self.tricks = []\n",
    "        self.number_of_dogs += 1        # The attribute is called using the instance name.\n",
    "\n",
    "    def add_trick(self, trick):\n",
    "        self.tricks.append(trick)\n",
    "\n",
    "        \n",
    "if __name__ == \"__main__\":\n",
    "    \n",
    "    dog_1 = Dog('Axl')\n",
    "    dog_2 = Dog('Buddy')\n",
    "    \n",
    "    dog_1.add_trick('roll over')\n",
    "    dog_2.add_trick('play dead')\n",
    "    \n",
    "    print('Attribute \"number_of_dogs\" of class \"Dog\":', Dog.number_of_dogs)\n",
    "    print('Attribute \"number_of_dogs\" of instance \"dog_1\":', dog_1.number_of_dogs)\n",
    "    print('Attribute \"number_of_dogs\" of instance \"dog_2\":', dog_2.number_of_dogs)\n"
   ]
  },
  {
   "cell_type": "markdown",
   "metadata": {},
   "source": [
    "<img src=\"images/class_variable_08.png\">"
   ]
  },
  {
   "cell_type": "code",
   "execution_count": null,
   "metadata": {},
   "outputs": [],
   "source": []
  },
  {
   "cell_type": "code",
   "execution_count": null,
   "metadata": {},
   "outputs": [],
   "source": []
  },
  {
   "cell_type": "code",
   "execution_count": null,
   "metadata": {},
   "outputs": [],
   "source": []
  },
  {
   "cell_type": "code",
   "execution_count": null,
   "metadata": {},
   "outputs": [],
   "source": []
  },
  {
   "cell_type": "raw",
   "metadata": {},
   "source": [
    "<img src=\"images/class_example_01.png\">"
   ]
  },
  {
   "cell_type": "raw",
   "metadata": {},
   "source": [
    "<img src=\"images/class_example_01.png\">"
   ]
  }
 ],
 "metadata": {
  "kernelspec": {
   "display_name": "Python 3",
   "language": "python",
   "name": "python3"
  },
  "language_info": {
   "codemirror_mode": {
    "name": "ipython",
    "version": 3
   },
   "file_extension": ".py",
   "mimetype": "text/x-python",
   "name": "python",
   "nbconvert_exporter": "python",
   "pygments_lexer": "ipython3",
   "version": "3.6.8"
  }
 },
 "nbformat": 4,
 "nbformat_minor": 2
}
